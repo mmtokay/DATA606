{
 "cells": [
  {
   "cell_type": "markdown",
   "metadata": {
    "colab_type": "text",
    "id": "gD2Nxo0AHu7w"
   },
   "source": [
    "# Capstone - Delivery-3\n",
    "This dataset is part of the [Farming Systems Project](https://www.ars.usda.gov/northeast-area/beltsville-md-barc/beltsville-agricultural-research-center/sustainable-agricultural-systems-laboratory/docs/farming-systems-project/) at USDA, Beltsville MD.  This data is not available online on the USDA\n",
    " website but can be found on my [GitHub](https://github.com/mmtokay/DATA606/tree/master/datasets).\n",
    "\n",
    "\n",
    "The data is split in two files, one that contains crop information and other with weather data.\n",
    "\n",
    "Crop file:\n",
    "* Crop - wheat, corn or soybean           \n",
    "* GrowingSeason - year crop was cultivated \n",
    "* SystemName - crop management (traditional: NT and CT; organic: Org2, Org3 and Org6')    \n",
    "* GrainYield - grain yield measured in kg/ha     \n",
    "* PlantingDate - date seeds were planted  \n",
    "* HarvestDate - date crop was harvested\n",
    "\n",
    "\n",
    "Weather file:\n",
    "* Year \n",
    "* Julian Day \n",
    "* Month\n",
    "* Day\n",
    "* Date\n",
    "* avgtTempC - average temperature in C\n",
    "* maxTempC - maximum temperature in C\n",
    "* minTempC - minimum temperature in C\n",
    "* maxHumPct - maximum humidity in %\n",
    "* minHumPct - minimum humidity in %\n",
    "* avgRadWm-2 - average radiation in w/m2\n",
    "* meanWindMs-1 - mean wind in m/s\n",
    "* PrecipitationMm - precipitation/snow melt in mm\n",
    "\n",
    "# Feature Engineering\n"
   ]
  },
  {
   "cell_type": "code",
   "execution_count": 1,
   "metadata": {
    "colab": {
     "base_uri": "https://localhost:8080/",
     "height": 161
    },
    "colab_type": "code",
    "executionInfo": {
     "elapsed": 34265,
     "status": "ok",
     "timestamp": 1584490150206,
     "user": {
      "displayName": "Maura Tokay",
      "photoUrl": "",
      "userId": "08366631216777031425"
     },
     "user_tz": 240
    },
    "id": "-WqchYRo7LRu",
    "outputId": "5da5ea9a-b242-4266-828b-9c0e3869df2c"
   },
   "outputs": [],
   "source": [
    "import io\n",
    "import matplotlib.pyplot as plt\n",
    "import numpy as np\n",
    "import pandas as pd\n",
    "import re\n",
    "import warnings\n",
    "import time\n",
    "\n",
    "from datetime import datetime, timedelta\n",
    "from sklearn import linear_model\n",
    "from sklearn.decomposition import PCA\n",
    "from sklearn.ensemble import RandomForestRegressor\n",
    "from sklearn.linear_model import LogisticRegression, LinearRegression, RidgeClassifier\n",
    "from sklearn.metrics import *\n",
    "from sklearn.model_selection import train_test_split, GridSearchCV, cross_val_score, cross_val_predict, cross_validate\n",
    "from sklearn.pipeline import Pipeline\n",
    "from sklearn.preprocessing import OneHotEncoder, PolynomialFeatures, RobustScaler, Normalizer, MinMaxScaler, StandardScaler, Binarizer\n",
    "from sklearn.tree import DecisionTreeRegressor, export_graphviz\n",
    "from sklearn.utils import shuffle\n",
    "from time import time\n",
    "\n",
    "warnings.simplefilter(action='ignore', category=FutureWarning)"
   ]
  },
  {
   "cell_type": "markdown",
   "metadata": {
    "colab_type": "text",
    "id": "h9zzD1CZrnxv"
   },
   "source": [
    "# Crop Data\n",
    "Import crop data file."
   ]
  },
  {
   "cell_type": "code",
   "execution_count": 2,
   "metadata": {
    "colab": {
     "base_uri": "https://localhost:8080/",
     "height": 197
    },
    "colab_type": "code",
    "executionInfo": {
     "elapsed": 1228,
     "status": "ok",
     "timestamp": 1584490154877,
     "user": {
      "displayName": "Maura Tokay",
      "photoUrl": "",
      "userId": "08366631216777031425"
     },
     "user_tz": 240
    },
    "id": "X0w-Kyvd8NLT",
    "outputId": "7077ceb4-1650-42de-a728-e23c07abc445"
   },
   "outputs": [
    {
     "name": "stdout",
     "output_type": "stream",
     "text": [
      "<class 'pandas.core.frame.DataFrame'>\n",
      "RangeIndex: 1113 entries, 0 to 1112\n",
      "Data columns (total 6 columns):\n",
      "Crop             1113 non-null object\n",
      "GrowingSeason    1113 non-null int64\n",
      "SystemName       1113 non-null object\n",
      "GrainYield       1113 non-null float64\n",
      "PlantingDate     1113 non-null object\n",
      "HarvestDate      1042 non-null object\n",
      "dtypes: float64(1), int64(1), object(4)\n",
      "memory usage: 52.2+ KB\n"
     ]
    }
   ],
   "source": [
    "data = pd.read_csv('FSPGrainYieldsV3Clean.csv')\n",
    "data.info()"
   ]
  },
  {
   "cell_type": "code",
   "execution_count": 3,
   "metadata": {
    "colab": {},
    "colab_type": "code",
    "id": "BPS7JxullD3L"
   },
   "outputs": [
    {
     "name": "stdout",
     "output_type": "stream",
     "text": [
      "\n",
      "Let's check if there is any data missing on the dataset.\n",
      "\n"
     ]
    },
    {
     "data": {
      "text/plain": [
       "Crop              0\n",
       "GrowingSeason     0\n",
       "SystemName        0\n",
       "GrainYield        0\n",
       "PlantingDate      0\n",
       "HarvestDate      71\n",
       "dtype: int64"
      ]
     },
     "execution_count": 3,
     "metadata": {},
     "output_type": "execute_result"
    }
   ],
   "source": [
    "# Convert from object to float64\n",
    "data['GrainYield'] = pd.to_numeric(data.GrainYield, errors='coerce')\n",
    "\n",
    "# Convert PlantingDate and HarvestDate from object to date\n",
    "data['PlantingDate'] = pd.to_datetime(data.PlantingDate)\n",
    "data['HarvestDate'] = pd.to_datetime(data.HarvestDate)\n",
    "\n",
    "print(\"\\nLet's check if there is any data missing on the dataset.\\n\")\n",
    "data.isna().sum()"
   ]
  },
  {
   "cell_type": "code",
   "execution_count": 4,
   "metadata": {
    "colab": {},
    "colab_type": "code",
    "id": "kNfhNynJNLiL"
   },
   "outputs": [
    {
     "name": "stdout",
     "output_type": "stream",
     "text": [
      "\n",
      "Check unique values for Crop, GrowingSeason and SystemName columns.\n",
      "\n",
      "Crop ['CRN' 'SOY' 'WHT']\n",
      "\n",
      "Growing Season [1996 1997 1998 2000 2001 2002 2003 2004 2005 2006 2007 2008 2009 2010\n",
      " 2011 2012 2013 2014 2015 2016]\n",
      "\n",
      "Crop Management Type ['NT' 'CT' 'Org2' 'Org3' 'Org6' 'ORG2' 'ORG3' 'ORG6']\n",
      "\n",
      "There are duplicate values for SystemManagement because column values are case sensitive. I will convert SystemName column to uppercase.\n",
      "\n",
      "Crop Management Type ['NT' 'CT' 'ORG2' 'ORG3' 'ORG6']\n"
     ]
    }
   ],
   "source": [
    "# Calculate duration between PlantingDate and HarvestDate\n",
    "data['weekDuration'] = data['HarvestDate'] - data['PlantingDate']\n",
    "data['weekDuration'] = data['weekDuration']/np.timedelta64(1,'W')\n",
    "print('\\nCheck unique values for Crop, GrowingSeason and SystemName columns.\\n')\n",
    "print(\"Crop\", data.Crop.unique())\n",
    "print(\"\\nGrowing Season\", data.GrowingSeason.unique())\n",
    "print(\"\\nCrop Management Type\", data.SystemName.unique())\n",
    "print(\"\\nThere are duplicate values for SystemManagement because column values are case sensitive. I will convert SystemName column to uppercase.\")\n",
    "data['SystemName'] = data['SystemName'].str.upper()\n",
    "print(\"\\nCrop Management Type\", data.SystemName.unique())"
   ]
  },
  {
   "cell_type": "code",
   "execution_count": 5,
   "metadata": {
    "colab": {
     "base_uri": "https://localhost:8080/",
     "height": 197
    },
    "colab_type": "code",
    "executionInfo": {
     "elapsed": 413,
     "status": "ok",
     "timestamp": 1584490186113,
     "user": {
      "displayName": "Maura Tokay",
      "photoUrl": "",
      "userId": "08366631216777031425"
     },
     "user_tz": 240
    },
    "id": "Uxam03EF85pP",
    "outputId": "6f78bbc3-ac39-432e-ec7d-60225e8db34a"
   },
   "outputs": [
    {
     "data": {
      "text/html": [
       "<div>\n",
       "<style scoped>\n",
       "    .dataframe tbody tr th:only-of-type {\n",
       "        vertical-align: middle;\n",
       "    }\n",
       "\n",
       "    .dataframe tbody tr th {\n",
       "        vertical-align: top;\n",
       "    }\n",
       "\n",
       "    .dataframe thead th {\n",
       "        text-align: right;\n",
       "    }\n",
       "</style>\n",
       "<table border=\"1\" class=\"dataframe\">\n",
       "  <thead>\n",
       "    <tr style=\"text-align: right;\">\n",
       "      <th></th>\n",
       "      <th>Crop</th>\n",
       "      <th>GrowingSeason</th>\n",
       "      <th>GrainYield</th>\n",
       "      <th>PlantingDate</th>\n",
       "      <th>HarvestDate</th>\n",
       "      <th>weekDuration</th>\n",
       "      <th>SystemNameType</th>\n",
       "    </tr>\n",
       "  </thead>\n",
       "  <tbody>\n",
       "    <tr>\n",
       "      <th>0</th>\n",
       "      <td>CRN</td>\n",
       "      <td>1996</td>\n",
       "      <td>10488.0</td>\n",
       "      <td>1996-05-23</td>\n",
       "      <td>1996-10-17</td>\n",
       "      <td>21.0</td>\n",
       "      <td>1</td>\n",
       "    </tr>\n",
       "    <tr>\n",
       "      <th>1</th>\n",
       "      <td>CRN</td>\n",
       "      <td>1996</td>\n",
       "      <td>9722.5</td>\n",
       "      <td>1996-05-23</td>\n",
       "      <td>1996-10-17</td>\n",
       "      <td>21.0</td>\n",
       "      <td>1</td>\n",
       "    </tr>\n",
       "    <tr>\n",
       "      <th>2</th>\n",
       "      <td>CRN</td>\n",
       "      <td>1996</td>\n",
       "      <td>10008.0</td>\n",
       "      <td>1996-05-23</td>\n",
       "      <td>1996-10-17</td>\n",
       "      <td>21.0</td>\n",
       "      <td>1</td>\n",
       "    </tr>\n",
       "    <tr>\n",
       "      <th>3</th>\n",
       "      <td>CRN</td>\n",
       "      <td>1996</td>\n",
       "      <td>8928.8</td>\n",
       "      <td>1996-05-23</td>\n",
       "      <td>1996-10-17</td>\n",
       "      <td>21.0</td>\n",
       "      <td>1</td>\n",
       "    </tr>\n",
       "    <tr>\n",
       "      <th>4</th>\n",
       "      <td>CRN</td>\n",
       "      <td>1996</td>\n",
       "      <td>10985.3</td>\n",
       "      <td>1996-05-23</td>\n",
       "      <td>1996-10-17</td>\n",
       "      <td>21.0</td>\n",
       "      <td>1</td>\n",
       "    </tr>\n",
       "  </tbody>\n",
       "</table>\n",
       "</div>"
      ],
      "text/plain": [
       "  Crop  GrowingSeason  GrainYield PlantingDate HarvestDate  weekDuration  \\\n",
       "0  CRN           1996     10488.0   1996-05-23  1996-10-17          21.0   \n",
       "1  CRN           1996      9722.5   1996-05-23  1996-10-17          21.0   \n",
       "2  CRN           1996     10008.0   1996-05-23  1996-10-17          21.0   \n",
       "3  CRN           1996      8928.8   1996-05-23  1996-10-17          21.0   \n",
       "4  CRN           1996     10985.3   1996-05-23  1996-10-17          21.0   \n",
       "\n",
       "  SystemNameType  \n",
       "0              1  \n",
       "1              1  \n",
       "2              1  \n",
       "3              1  \n",
       "4              1  "
      ]
     },
     "execution_count": 5,
     "metadata": {},
     "output_type": "execute_result"
    }
   ],
   "source": [
    "# 1 for conventional\n",
    "# 0 for organic\n",
    "data['SystemNameType'] = ((data.SystemName == \"NT\") | (data.SystemName == \"CT\")).map({True:'1', False:'0'})\n",
    "# Drop SystemName column\n",
    "data.drop('SystemName', axis=1, inplace=True)\n",
    "data.head()"
   ]
  },
  {
   "cell_type": "markdown",
   "metadata": {
    "colab_type": "text",
    "id": "jKTFN5rr0_xe"
   },
   "source": [
    "I will separate the data by crop: corn, soybean and wheat and I will display basic statistics for each crop.\n",
    "\n",
    "# Corn dataset - Statistics"
   ]
  },
  {
   "cell_type": "code",
   "execution_count": 6,
   "metadata": {
    "colab": {
     "base_uri": "https://localhost:8080/",
     "height": 437
    },
    "colab_type": "code",
    "executionInfo": {
     "elapsed": 385,
     "status": "ok",
     "timestamp": 1584490190917,
     "user": {
      "displayName": "Maura Tokay",
      "photoUrl": "",
      "userId": "08366631216777031425"
     },
     "user_tz": 240
    },
    "id": "REkL1Qd1LFXe",
    "outputId": "64c18e75-12c2-4b40-fa0f-ab69da76ace0"
   },
   "outputs": [
    {
     "data": {
      "text/html": [
       "<div>\n",
       "<style scoped>\n",
       "    .dataframe tbody tr th:only-of-type {\n",
       "        vertical-align: middle;\n",
       "    }\n",
       "\n",
       "    .dataframe tbody tr th {\n",
       "        vertical-align: top;\n",
       "    }\n",
       "\n",
       "    .dataframe thead th {\n",
       "        text-align: right;\n",
       "    }\n",
       "</style>\n",
       "<table border=\"1\" class=\"dataframe\">\n",
       "  <thead>\n",
       "    <tr style=\"text-align: right;\">\n",
       "      <th></th>\n",
       "      <th>index</th>\n",
       "      <th>Crop</th>\n",
       "      <th>GrowingSeason</th>\n",
       "      <th>GrainYield</th>\n",
       "      <th>PlantingDate</th>\n",
       "      <th>HarvestDate</th>\n",
       "      <th>weekDuration</th>\n",
       "      <th>SystemNameType</th>\n",
       "    </tr>\n",
       "  </thead>\n",
       "  <tbody>\n",
       "    <tr>\n",
       "      <th>count</th>\n",
       "      <td>390.000000</td>\n",
       "      <td>390</td>\n",
       "      <td>390.000000</td>\n",
       "      <td>390.000000</td>\n",
       "      <td>390</td>\n",
       "      <td>370</td>\n",
       "      <td>370.000000</td>\n",
       "      <td>390</td>\n",
       "    </tr>\n",
       "    <tr>\n",
       "      <th>unique</th>\n",
       "      <td>NaN</td>\n",
       "      <td>1</td>\n",
       "      <td>NaN</td>\n",
       "      <td>NaN</td>\n",
       "      <td>43</td>\n",
       "      <td>64</td>\n",
       "      <td>NaN</td>\n",
       "      <td>2</td>\n",
       "    </tr>\n",
       "    <tr>\n",
       "      <th>top</th>\n",
       "      <td>NaN</td>\n",
       "      <td>CRN</td>\n",
       "      <td>NaN</td>\n",
       "      <td>NaN</td>\n",
       "      <td>2009-06-29 00:00:00</td>\n",
       "      <td>2008-10-10 00:00:00</td>\n",
       "      <td>NaN</td>\n",
       "      <td>0</td>\n",
       "    </tr>\n",
       "    <tr>\n",
       "      <th>freq</th>\n",
       "      <td>NaN</td>\n",
       "      <td>390</td>\n",
       "      <td>NaN</td>\n",
       "      <td>NaN</td>\n",
       "      <td>16</td>\n",
       "      <td>20</td>\n",
       "      <td>NaN</td>\n",
       "      <td>234</td>\n",
       "    </tr>\n",
       "    <tr>\n",
       "      <th>first</th>\n",
       "      <td>NaN</td>\n",
       "      <td>NaN</td>\n",
       "      <td>NaN</td>\n",
       "      <td>NaN</td>\n",
       "      <td>1996-05-23 00:00:00</td>\n",
       "      <td>1996-10-17 00:00:00</td>\n",
       "      <td>NaN</td>\n",
       "      <td>NaN</td>\n",
       "    </tr>\n",
       "    <tr>\n",
       "      <th>last</th>\n",
       "      <td>NaN</td>\n",
       "      <td>NaN</td>\n",
       "      <td>NaN</td>\n",
       "      <td>NaN</td>\n",
       "      <td>2016-06-09 00:00:00</td>\n",
       "      <td>2016-10-18 00:00:00</td>\n",
       "      <td>NaN</td>\n",
       "      <td>NaN</td>\n",
       "    </tr>\n",
       "    <tr>\n",
       "      <th>mean</th>\n",
       "      <td>194.500000</td>\n",
       "      <td>NaN</td>\n",
       "      <td>2006.376923</td>\n",
       "      <td>5746.695385</td>\n",
       "      <td>NaN</td>\n",
       "      <td>NaN</td>\n",
       "      <td>21.583398</td>\n",
       "      <td>NaN</td>\n",
       "    </tr>\n",
       "    <tr>\n",
       "      <th>std</th>\n",
       "      <td>112.727548</td>\n",
       "      <td>NaN</td>\n",
       "      <td>5.932697</td>\n",
       "      <td>3350.745309</td>\n",
       "      <td>NaN</td>\n",
       "      <td>NaN</td>\n",
       "      <td>2.521325</td>\n",
       "      <td>NaN</td>\n",
       "    </tr>\n",
       "    <tr>\n",
       "      <th>min</th>\n",
       "      <td>0.000000</td>\n",
       "      <td>NaN</td>\n",
       "      <td>1996.000000</td>\n",
       "      <td>71.900000</td>\n",
       "      <td>NaN</td>\n",
       "      <td>NaN</td>\n",
       "      <td>16.857143</td>\n",
       "      <td>NaN</td>\n",
       "    </tr>\n",
       "    <tr>\n",
       "      <th>25%</th>\n",
       "      <td>97.250000</td>\n",
       "      <td>NaN</td>\n",
       "      <td>2002.000000</td>\n",
       "      <td>2811.000000</td>\n",
       "      <td>NaN</td>\n",
       "      <td>NaN</td>\n",
       "      <td>19.428571</td>\n",
       "      <td>NaN</td>\n",
       "    </tr>\n",
       "    <tr>\n",
       "      <th>50%</th>\n",
       "      <td>194.500000</td>\n",
       "      <td>NaN</td>\n",
       "      <td>2007.000000</td>\n",
       "      <td>5791.500000</td>\n",
       "      <td>NaN</td>\n",
       "      <td>NaN</td>\n",
       "      <td>21.142857</td>\n",
       "      <td>NaN</td>\n",
       "    </tr>\n",
       "    <tr>\n",
       "      <th>75%</th>\n",
       "      <td>291.750000</td>\n",
       "      <td>NaN</td>\n",
       "      <td>2011.000000</td>\n",
       "      <td>8274.950000</td>\n",
       "      <td>NaN</td>\n",
       "      <td>NaN</td>\n",
       "      <td>23.285714</td>\n",
       "      <td>NaN</td>\n",
       "    </tr>\n",
       "    <tr>\n",
       "      <th>max</th>\n",
       "      <td>389.000000</td>\n",
       "      <td>NaN</td>\n",
       "      <td>2016.000000</td>\n",
       "      <td>13170.200000</td>\n",
       "      <td>NaN</td>\n",
       "      <td>NaN</td>\n",
       "      <td>28.571429</td>\n",
       "      <td>NaN</td>\n",
       "    </tr>\n",
       "  </tbody>\n",
       "</table>\n",
       "</div>"
      ],
      "text/plain": [
       "             index Crop  GrowingSeason    GrainYield         PlantingDate  \\\n",
       "count   390.000000  390     390.000000    390.000000                  390   \n",
       "unique         NaN    1            NaN           NaN                   43   \n",
       "top            NaN  CRN            NaN           NaN  2009-06-29 00:00:00   \n",
       "freq           NaN  390            NaN           NaN                   16   \n",
       "first          NaN  NaN            NaN           NaN  1996-05-23 00:00:00   \n",
       "last           NaN  NaN            NaN           NaN  2016-06-09 00:00:00   \n",
       "mean    194.500000  NaN    2006.376923   5746.695385                  NaN   \n",
       "std     112.727548  NaN       5.932697   3350.745309                  NaN   \n",
       "min       0.000000  NaN    1996.000000     71.900000                  NaN   \n",
       "25%      97.250000  NaN    2002.000000   2811.000000                  NaN   \n",
       "50%     194.500000  NaN    2007.000000   5791.500000                  NaN   \n",
       "75%     291.750000  NaN    2011.000000   8274.950000                  NaN   \n",
       "max     389.000000  NaN    2016.000000  13170.200000                  NaN   \n",
       "\n",
       "                HarvestDate  weekDuration SystemNameType  \n",
       "count                   370    370.000000            390  \n",
       "unique                   64           NaN              2  \n",
       "top     2008-10-10 00:00:00           NaN              0  \n",
       "freq                     20           NaN            234  \n",
       "first   1996-10-17 00:00:00           NaN            NaN  \n",
       "last    2016-10-18 00:00:00           NaN            NaN  \n",
       "mean                    NaN     21.583398            NaN  \n",
       "std                     NaN      2.521325            NaN  \n",
       "min                     NaN     16.857143            NaN  \n",
       "25%                     NaN     19.428571            NaN  \n",
       "50%                     NaN     21.142857            NaN  \n",
       "75%                     NaN     23.285714            NaN  \n",
       "max                     NaN     28.571429            NaN  "
      ]
     },
     "execution_count": 6,
     "metadata": {},
     "output_type": "execute_result"
    }
   ],
   "source": [
    "data_corn = data.loc[data['Crop'] == \"CRN\"]\n",
    "data_corn.reset_index(inplace = True)\n",
    "data_corn.describe(include=\"all\")"
   ]
  },
  {
   "cell_type": "markdown",
   "metadata": {
    "colab_type": "text",
    "id": "IIYFJ0Bu1i0v"
   },
   "source": [
    "# Soybean dataset - Statistics"
   ]
  },
  {
   "cell_type": "code",
   "execution_count": 7,
   "metadata": {
    "colab": {
     "base_uri": "https://localhost:8080/",
     "height": 437
    },
    "colab_type": "code",
    "executionInfo": {
     "elapsed": 408,
     "status": "ok",
     "timestamp": 1584490222168,
     "user": {
      "displayName": "Maura Tokay",
      "photoUrl": "",
      "userId": "08366631216777031425"
     },
     "user_tz": 240
    },
    "id": "7ITzsK4PAzlm",
    "outputId": "4ef3d169-46fa-4369-d988-e961c7ccae6b"
   },
   "outputs": [
    {
     "data": {
      "text/html": [
       "<div>\n",
       "<style scoped>\n",
       "    .dataframe tbody tr th:only-of-type {\n",
       "        vertical-align: middle;\n",
       "    }\n",
       "\n",
       "    .dataframe tbody tr th {\n",
       "        vertical-align: top;\n",
       "    }\n",
       "\n",
       "    .dataframe thead th {\n",
       "        text-align: right;\n",
       "    }\n",
       "</style>\n",
       "<table border=\"1\" class=\"dataframe\">\n",
       "  <thead>\n",
       "    <tr style=\"text-align: right;\">\n",
       "      <th></th>\n",
       "      <th>index</th>\n",
       "      <th>Crop</th>\n",
       "      <th>GrowingSeason</th>\n",
       "      <th>GrainYield</th>\n",
       "      <th>PlantingDate</th>\n",
       "      <th>HarvestDate</th>\n",
       "      <th>weekDuration</th>\n",
       "      <th>SystemNameType</th>\n",
       "    </tr>\n",
       "  </thead>\n",
       "  <tbody>\n",
       "    <tr>\n",
       "      <th>count</th>\n",
       "      <td>500.000000</td>\n",
       "      <td>500</td>\n",
       "      <td>500.000000</td>\n",
       "      <td>500.000000</td>\n",
       "      <td>500</td>\n",
       "      <td>465</td>\n",
       "      <td>465.000000</td>\n",
       "      <td>500</td>\n",
       "    </tr>\n",
       "    <tr>\n",
       "      <th>unique</th>\n",
       "      <td>NaN</td>\n",
       "      <td>1</td>\n",
       "      <td>NaN</td>\n",
       "      <td>NaN</td>\n",
       "      <td>49</td>\n",
       "      <td>49</td>\n",
       "      <td>NaN</td>\n",
       "      <td>2</td>\n",
       "    </tr>\n",
       "    <tr>\n",
       "      <th>top</th>\n",
       "      <td>NaN</td>\n",
       "      <td>SOY</td>\n",
       "      <td>NaN</td>\n",
       "      <td>NaN</td>\n",
       "      <td>2001-05-30 00:00:00</td>\n",
       "      <td>2013-10-29 00:00:00</td>\n",
       "      <td>NaN</td>\n",
       "      <td>1</td>\n",
       "    </tr>\n",
       "    <tr>\n",
       "      <th>freq</th>\n",
       "      <td>NaN</td>\n",
       "      <td>500</td>\n",
       "      <td>NaN</td>\n",
       "      <td>NaN</td>\n",
       "      <td>20</td>\n",
       "      <td>20</td>\n",
       "      <td>NaN</td>\n",
       "      <td>273</td>\n",
       "    </tr>\n",
       "    <tr>\n",
       "      <th>first</th>\n",
       "      <td>NaN</td>\n",
       "      <td>NaN</td>\n",
       "      <td>NaN</td>\n",
       "      <td>NaN</td>\n",
       "      <td>1996-05-23 00:00:00</td>\n",
       "      <td>1996-10-04 00:00:00</td>\n",
       "      <td>NaN</td>\n",
       "      <td>NaN</td>\n",
       "    </tr>\n",
       "    <tr>\n",
       "      <th>last</th>\n",
       "      <td>NaN</td>\n",
       "      <td>NaN</td>\n",
       "      <td>NaN</td>\n",
       "      <td>NaN</td>\n",
       "      <td>2016-07-14 00:00:00</td>\n",
       "      <td>2016-10-27 00:00:00</td>\n",
       "      <td>NaN</td>\n",
       "      <td>NaN</td>\n",
       "    </tr>\n",
       "    <tr>\n",
       "      <th>mean</th>\n",
       "      <td>639.500000</td>\n",
       "      <td>NaN</td>\n",
       "      <td>2006.768000</td>\n",
       "      <td>2647.311400</td>\n",
       "      <td>NaN</td>\n",
       "      <td>NaN</td>\n",
       "      <td>21.113978</td>\n",
       "      <td>NaN</td>\n",
       "    </tr>\n",
       "    <tr>\n",
       "      <th>std</th>\n",
       "      <td>144.481833</td>\n",
       "      <td>NaN</td>\n",
       "      <td>5.767556</td>\n",
       "      <td>1156.686365</td>\n",
       "      <td>NaN</td>\n",
       "      <td>NaN</td>\n",
       "      <td>2.868903</td>\n",
       "      <td>NaN</td>\n",
       "    </tr>\n",
       "    <tr>\n",
       "      <th>min</th>\n",
       "      <td>390.000000</td>\n",
       "      <td>NaN</td>\n",
       "      <td>1996.000000</td>\n",
       "      <td>165.200000</td>\n",
       "      <td>NaN</td>\n",
       "      <td>NaN</td>\n",
       "      <td>15.000000</td>\n",
       "      <td>NaN</td>\n",
       "    </tr>\n",
       "    <tr>\n",
       "      <th>25%</th>\n",
       "      <td>514.750000</td>\n",
       "      <td>NaN</td>\n",
       "      <td>2002.000000</td>\n",
       "      <td>1888.100000</td>\n",
       "      <td>NaN</td>\n",
       "      <td>NaN</td>\n",
       "      <td>19.142857</td>\n",
       "      <td>NaN</td>\n",
       "    </tr>\n",
       "    <tr>\n",
       "      <th>50%</th>\n",
       "      <td>639.500000</td>\n",
       "      <td>NaN</td>\n",
       "      <td>2007.000000</td>\n",
       "      <td>2578.600000</td>\n",
       "      <td>NaN</td>\n",
       "      <td>NaN</td>\n",
       "      <td>21.000000</td>\n",
       "      <td>NaN</td>\n",
       "    </tr>\n",
       "    <tr>\n",
       "      <th>75%</th>\n",
       "      <td>764.250000</td>\n",
       "      <td>NaN</td>\n",
       "      <td>2012.000000</td>\n",
       "      <td>3484.250000</td>\n",
       "      <td>NaN</td>\n",
       "      <td>NaN</td>\n",
       "      <td>23.428571</td>\n",
       "      <td>NaN</td>\n",
       "    </tr>\n",
       "    <tr>\n",
       "      <th>max</th>\n",
       "      <td>889.000000</td>\n",
       "      <td>NaN</td>\n",
       "      <td>2016.000000</td>\n",
       "      <td>5198.700000</td>\n",
       "      <td>NaN</td>\n",
       "      <td>NaN</td>\n",
       "      <td>26.857143</td>\n",
       "      <td>NaN</td>\n",
       "    </tr>\n",
       "  </tbody>\n",
       "</table>\n",
       "</div>"
      ],
      "text/plain": [
       "             index Crop  GrowingSeason   GrainYield         PlantingDate  \\\n",
       "count   500.000000  500     500.000000   500.000000                  500   \n",
       "unique         NaN    1            NaN          NaN                   49   \n",
       "top            NaN  SOY            NaN          NaN  2001-05-30 00:00:00   \n",
       "freq           NaN  500            NaN          NaN                   20   \n",
       "first          NaN  NaN            NaN          NaN  1996-05-23 00:00:00   \n",
       "last           NaN  NaN            NaN          NaN  2016-07-14 00:00:00   \n",
       "mean    639.500000  NaN    2006.768000  2647.311400                  NaN   \n",
       "std     144.481833  NaN       5.767556  1156.686365                  NaN   \n",
       "min     390.000000  NaN    1996.000000   165.200000                  NaN   \n",
       "25%     514.750000  NaN    2002.000000  1888.100000                  NaN   \n",
       "50%     639.500000  NaN    2007.000000  2578.600000                  NaN   \n",
       "75%     764.250000  NaN    2012.000000  3484.250000                  NaN   \n",
       "max     889.000000  NaN    2016.000000  5198.700000                  NaN   \n",
       "\n",
       "                HarvestDate  weekDuration SystemNameType  \n",
       "count                   465    465.000000            500  \n",
       "unique                   49           NaN              2  \n",
       "top     2013-10-29 00:00:00           NaN              1  \n",
       "freq                     20           NaN            273  \n",
       "first   1996-10-04 00:00:00           NaN            NaN  \n",
       "last    2016-10-27 00:00:00           NaN            NaN  \n",
       "mean                    NaN     21.113978            NaN  \n",
       "std                     NaN      2.868903            NaN  \n",
       "min                     NaN     15.000000            NaN  \n",
       "25%                     NaN     19.142857            NaN  \n",
       "50%                     NaN     21.000000            NaN  \n",
       "75%                     NaN     23.428571            NaN  \n",
       "max                     NaN     26.857143            NaN  "
      ]
     },
     "execution_count": 7,
     "metadata": {},
     "output_type": "execute_result"
    }
   ],
   "source": [
    "data_soy = data.loc[data['Crop'] == \"SOY\"]\n",
    "data_soy.reset_index(inplace = True)\n",
    "data_soy.describe(include=\"all\")"
   ]
  },
  {
   "cell_type": "markdown",
   "metadata": {
    "colab_type": "text",
    "id": "P83mjxjc13pe"
   },
   "source": [
    "# Wheat dataset - Statistics"
   ]
  },
  {
   "cell_type": "code",
   "execution_count": 8,
   "metadata": {
    "colab": {
     "base_uri": "https://localhost:8080/",
     "height": 437
    },
    "colab_type": "code",
    "executionInfo": {
     "elapsed": 515,
     "status": "ok",
     "timestamp": 1584490248578,
     "user": {
      "displayName": "Maura Tokay",
      "photoUrl": "",
      "userId": "08366631216777031425"
     },
     "user_tz": 240
    },
    "id": "NgzaZ5fZD3Tn",
    "outputId": "44fa5170-c142-46ae-d669-69f136082871"
   },
   "outputs": [
    {
     "data": {
      "text/html": [
       "<div>\n",
       "<style scoped>\n",
       "    .dataframe tbody tr th:only-of-type {\n",
       "        vertical-align: middle;\n",
       "    }\n",
       "\n",
       "    .dataframe tbody tr th {\n",
       "        vertical-align: top;\n",
       "    }\n",
       "\n",
       "    .dataframe thead th {\n",
       "        text-align: right;\n",
       "    }\n",
       "</style>\n",
       "<table border=\"1\" class=\"dataframe\">\n",
       "  <thead>\n",
       "    <tr style=\"text-align: right;\">\n",
       "      <th></th>\n",
       "      <th>index</th>\n",
       "      <th>Crop</th>\n",
       "      <th>GrowingSeason</th>\n",
       "      <th>GrainYield</th>\n",
       "      <th>PlantingDate</th>\n",
       "      <th>HarvestDate</th>\n",
       "      <th>weekDuration</th>\n",
       "      <th>SystemNameType</th>\n",
       "    </tr>\n",
       "  </thead>\n",
       "  <tbody>\n",
       "    <tr>\n",
       "      <th>count</th>\n",
       "      <td>223.000000</td>\n",
       "      <td>223</td>\n",
       "      <td>223.000000</td>\n",
       "      <td>223.000000</td>\n",
       "      <td>223</td>\n",
       "      <td>207</td>\n",
       "      <td>207.000000</td>\n",
       "      <td>223</td>\n",
       "    </tr>\n",
       "    <tr>\n",
       "      <th>unique</th>\n",
       "      <td>NaN</td>\n",
       "      <td>1</td>\n",
       "      <td>NaN</td>\n",
       "      <td>NaN</td>\n",
       "      <td>19</td>\n",
       "      <td>15</td>\n",
       "      <td>NaN</td>\n",
       "      <td>2</td>\n",
       "    </tr>\n",
       "    <tr>\n",
       "      <th>top</th>\n",
       "      <td>NaN</td>\n",
       "      <td>WHT</td>\n",
       "      <td>NaN</td>\n",
       "      <td>NaN</td>\n",
       "      <td>2001-10-26 00:00:00</td>\n",
       "      <td>2015-07-12 00:00:00</td>\n",
       "      <td>NaN</td>\n",
       "      <td>1</td>\n",
       "    </tr>\n",
       "    <tr>\n",
       "      <th>freq</th>\n",
       "      <td>NaN</td>\n",
       "      <td>223</td>\n",
       "      <td>NaN</td>\n",
       "      <td>NaN</td>\n",
       "      <td>16</td>\n",
       "      <td>16</td>\n",
       "      <td>NaN</td>\n",
       "      <td>115</td>\n",
       "    </tr>\n",
       "    <tr>\n",
       "      <th>first</th>\n",
       "      <td>NaN</td>\n",
       "      <td>NaN</td>\n",
       "      <td>NaN</td>\n",
       "      <td>NaN</td>\n",
       "      <td>1996-11-04 00:00:00</td>\n",
       "      <td>1997-07-06 00:00:00</td>\n",
       "      <td>NaN</td>\n",
       "      <td>NaN</td>\n",
       "    </tr>\n",
       "    <tr>\n",
       "      <th>last</th>\n",
       "      <td>NaN</td>\n",
       "      <td>NaN</td>\n",
       "      <td>NaN</td>\n",
       "      <td>NaN</td>\n",
       "      <td>2015-11-17 00:00:00</td>\n",
       "      <td>2016-07-11 00:00:00</td>\n",
       "      <td>NaN</td>\n",
       "      <td>NaN</td>\n",
       "    </tr>\n",
       "    <tr>\n",
       "      <th>mean</th>\n",
       "      <td>1001.000000</td>\n",
       "      <td>NaN</td>\n",
       "      <td>2007.578475</td>\n",
       "      <td>4278.827354</td>\n",
       "      <td>NaN</td>\n",
       "      <td>NaN</td>\n",
       "      <td>35.621808</td>\n",
       "      <td>NaN</td>\n",
       "    </tr>\n",
       "    <tr>\n",
       "      <th>std</th>\n",
       "      <td>64.518731</td>\n",
       "      <td>NaN</td>\n",
       "      <td>6.094000</td>\n",
       "      <td>1064.753320</td>\n",
       "      <td>NaN</td>\n",
       "      <td>NaN</td>\n",
       "      <td>1.901822</td>\n",
       "      <td>NaN</td>\n",
       "    </tr>\n",
       "    <tr>\n",
       "      <th>min</th>\n",
       "      <td>890.000000</td>\n",
       "      <td>NaN</td>\n",
       "      <td>1997.000000</td>\n",
       "      <td>1403.500000</td>\n",
       "      <td>NaN</td>\n",
       "      <td>NaN</td>\n",
       "      <td>31.428571</td>\n",
       "      <td>NaN</td>\n",
       "    </tr>\n",
       "    <tr>\n",
       "      <th>25%</th>\n",
       "      <td>945.500000</td>\n",
       "      <td>NaN</td>\n",
       "      <td>2001.500000</td>\n",
       "      <td>3671.850000</td>\n",
       "      <td>NaN</td>\n",
       "      <td>NaN</td>\n",
       "      <td>34.857143</td>\n",
       "      <td>NaN</td>\n",
       "    </tr>\n",
       "    <tr>\n",
       "      <th>50%</th>\n",
       "      <td>1001.000000</td>\n",
       "      <td>NaN</td>\n",
       "      <td>2009.000000</td>\n",
       "      <td>4427.700000</td>\n",
       "      <td>NaN</td>\n",
       "      <td>NaN</td>\n",
       "      <td>35.428571</td>\n",
       "      <td>NaN</td>\n",
       "    </tr>\n",
       "    <tr>\n",
       "      <th>75%</th>\n",
       "      <td>1056.500000</td>\n",
       "      <td>NaN</td>\n",
       "      <td>2013.000000</td>\n",
       "      <td>5075.900000</td>\n",
       "      <td>NaN</td>\n",
       "      <td>NaN</td>\n",
       "      <td>37.571429</td>\n",
       "      <td>NaN</td>\n",
       "    </tr>\n",
       "    <tr>\n",
       "      <th>max</th>\n",
       "      <td>1112.000000</td>\n",
       "      <td>NaN</td>\n",
       "      <td>2016.000000</td>\n",
       "      <td>6967.000000</td>\n",
       "      <td>NaN</td>\n",
       "      <td>NaN</td>\n",
       "      <td>39.142857</td>\n",
       "      <td>NaN</td>\n",
       "    </tr>\n",
       "  </tbody>\n",
       "</table>\n",
       "</div>"
      ],
      "text/plain": [
       "              index Crop  GrowingSeason   GrainYield         PlantingDate  \\\n",
       "count    223.000000  223     223.000000   223.000000                  223   \n",
       "unique          NaN    1            NaN          NaN                   19   \n",
       "top             NaN  WHT            NaN          NaN  2001-10-26 00:00:00   \n",
       "freq            NaN  223            NaN          NaN                   16   \n",
       "first           NaN  NaN            NaN          NaN  1996-11-04 00:00:00   \n",
       "last            NaN  NaN            NaN          NaN  2015-11-17 00:00:00   \n",
       "mean    1001.000000  NaN    2007.578475  4278.827354                  NaN   \n",
       "std       64.518731  NaN       6.094000  1064.753320                  NaN   \n",
       "min      890.000000  NaN    1997.000000  1403.500000                  NaN   \n",
       "25%      945.500000  NaN    2001.500000  3671.850000                  NaN   \n",
       "50%     1001.000000  NaN    2009.000000  4427.700000                  NaN   \n",
       "75%     1056.500000  NaN    2013.000000  5075.900000                  NaN   \n",
       "max     1112.000000  NaN    2016.000000  6967.000000                  NaN   \n",
       "\n",
       "                HarvestDate  weekDuration SystemNameType  \n",
       "count                   207    207.000000            223  \n",
       "unique                   15           NaN              2  \n",
       "top     2015-07-12 00:00:00           NaN              1  \n",
       "freq                     16           NaN            115  \n",
       "first   1997-07-06 00:00:00           NaN            NaN  \n",
       "last    2016-07-11 00:00:00           NaN            NaN  \n",
       "mean                    NaN     35.621808            NaN  \n",
       "std                     NaN      1.901822            NaN  \n",
       "min                     NaN     31.428571            NaN  \n",
       "25%                     NaN     34.857143            NaN  \n",
       "50%                     NaN     35.428571            NaN  \n",
       "75%                     NaN     37.571429            NaN  \n",
       "max                     NaN     39.142857            NaN  "
      ]
     },
     "execution_count": 8,
     "metadata": {},
     "output_type": "execute_result"
    }
   ],
   "source": [
    "data_wheat = data.loc[data['Crop'] == \"WHT\"]\n",
    "data_wheat.reset_index(inplace = True)\n",
    "data_wheat.describe(include=\"all\")"
   ]
  },
  {
   "cell_type": "markdown",
   "metadata": {},
   "source": [
    "# Week Duration For Each Crop\n",
    "I will use the minimum week duration to generate weather features:\n",
    "\n",
    "corn = 16\n",
    "\n",
    "soybeans = 15\n",
    "\n",
    "wheat = 31\n"
   ]
  },
  {
   "cell_type": "markdown",
   "metadata": {
    "colab_type": "text",
    "id": "6C6kEo8qAcnk"
   },
   "source": [
    "# Weather Data\n",
    "\n",
    "Import weather data."
   ]
  },
  {
   "cell_type": "code",
   "execution_count": 9,
   "metadata": {
    "colab": {
     "base_uri": "https://localhost:8080/",
     "height": 197
    },
    "colab_type": "code",
    "executionInfo": {
     "elapsed": 747,
     "status": "ok",
     "timestamp": 1584490272523,
     "user": {
      "displayName": "Maura Tokay",
      "photoUrl": "",
      "userId": "08366631216777031425"
     },
     "user_tz": 240
    },
    "id": "6GHb5SrNA0pB",
    "outputId": "5126fa36-0eb5-4638-ab75-86a5cc70be18"
   },
   "outputs": [
    {
     "name": "stdout",
     "output_type": "stream",
     "text": [
      "               Year    JulianDay        Month          Day  \\\n",
      "count   8763.000000  8763.000000  8763.000000  8763.000000   \n",
      "unique          NaN          NaN          NaN          NaN   \n",
      "top             NaN          NaN          NaN          NaN   \n",
      "freq            NaN          NaN          NaN          NaN   \n",
      "first           NaN          NaN          NaN          NaN   \n",
      "last            NaN          NaN          NaN          NaN   \n",
      "mean    2007.498916   183.092320     6.522994    15.729773   \n",
      "std        6.921633   105.423565     3.449147     8.799551   \n",
      "min     1996.000000     1.000000     1.000000     1.000000   \n",
      "25%     2001.500000    92.000000     4.000000     8.000000   \n",
      "50%     2007.000000   183.000000     7.000000    16.000000   \n",
      "75%     2013.000000   274.000000    10.000000    23.000000   \n",
      "max     2019.000000   366.000000    12.000000    31.000000   \n",
      "\n",
      "                       Date    avgtTempC     maxTempC     minTempC  \\\n",
      "count                  8763  8728.000000  8763.000000  8763.000000   \n",
      "unique                 8763          NaN          NaN          NaN   \n",
      "top     2007-09-10 00:00:00          NaN          NaN          NaN   \n",
      "freq                      1          NaN          NaN          NaN   \n",
      "first   1996-01-01 00:00:00          NaN          NaN          NaN   \n",
      "last    2019-12-31 00:00:00          NaN          NaN          NaN   \n",
      "mean                    NaN    13.059551    18.700260     7.228509   \n",
      "std                     NaN     9.363676    10.073274     9.275069   \n",
      "min                     NaN   -13.600000    -9.570000   -20.100000   \n",
      "25%                     NaN     5.300000    10.600000    -0.500000   \n",
      "50%                     NaN    13.500000    19.800000     7.062000   \n",
      "75%                     NaN    21.492350    27.500000    15.500000   \n",
      "max                     NaN    31.800000    39.700000    26.070000   \n",
      "\n",
      "          maxHumPct    minHumPct   avgRadWm-2  meanWindMs-1  PrecipitationMm  \n",
      "count   8763.000000  8763.000000  6796.000000   8750.000000      8763.000000  \n",
      "unique          NaN          NaN          NaN           NaN              NaN  \n",
      "top             NaN          NaN          NaN           NaN              NaN  \n",
      "freq            NaN          NaN          NaN           NaN              NaN  \n",
      "first           NaN          NaN          NaN           NaN              NaN  \n",
      "last            NaN          NaN          NaN           NaN              NaN  \n",
      "mean      94.880158    47.487392   107.190830      1.999463         2.941006  \n",
      "std       10.452223    18.361342    93.233499      1.366765         8.284377  \n",
      "min       39.600000     8.500000    -0.019000      0.000000         0.000000  \n",
      "25%       91.800000    33.800000    19.607500      1.128250         0.000000  \n",
      "50%       95.700000    44.300000    87.750000      1.660000         0.000000  \n",
      "75%      101.800000    57.800000   184.000000      2.479800         1.000000  \n",
      "max      166.300000   105.900000   345.100000     28.050000       137.000000  \n",
      "\n",
      "Let's check if there is any data missing on the dataset.\n",
      "\n",
      "Year                  0\n",
      "JulianDay             0\n",
      "Month                 0\n",
      " Day                  0\n",
      "Date                  0\n",
      "avgtTempC            35\n",
      "maxTempC              0\n",
      "minTempC              0\n",
      "maxHumPct             0\n",
      "minHumPct             0\n",
      "avgRadWm-2         1967\n",
      "meanWindMs-1         13\n",
      "PrecipitationMm       0\n",
      "dtype: int64\n"
     ]
    }
   ],
   "source": [
    "weather_data = pd.read_csv('FSPWeather1996-2019V2.csv')\n",
    "weather_data['Date'] = pd.to_datetime(weather_data.Date)\n",
    "print(weather_data.describe(include=\"all\"))\n",
    "print(\"\\nLet's check if there is any data missing on the dataset.\\n\")\n",
    "print(weather_data.isna().sum())"
   ]
  },
  {
   "cell_type": "code",
   "execution_count": 10,
   "metadata": {},
   "outputs": [
    {
     "name": "stdout",
     "output_type": "stream",
     "text": [
      "                       Date    avgtTempC     maxTempC     minTempC  \\\n",
      "count                  8763  8728.000000  8763.000000  8763.000000   \n",
      "unique                 8763          NaN          NaN          NaN   \n",
      "top     2007-09-10 00:00:00          NaN          NaN          NaN   \n",
      "freq                      1          NaN          NaN          NaN   \n",
      "first   1996-01-01 00:00:00          NaN          NaN          NaN   \n",
      "last    2019-12-31 00:00:00          NaN          NaN          NaN   \n",
      "mean                    NaN    13.059551    18.700260     7.228509   \n",
      "std                     NaN     9.363676    10.073274     9.275069   \n",
      "min                     NaN   -13.600000    -9.570000   -20.100000   \n",
      "25%                     NaN     5.300000    10.600000    -0.500000   \n",
      "50%                     NaN    13.500000    19.800000     7.062000   \n",
      "75%                     NaN    21.492350    27.500000    15.500000   \n",
      "max                     NaN    31.800000    39.700000    26.070000   \n",
      "\n",
      "          maxHumPct    minHumPct  meanWindMs-1  PrecipitationMm  \n",
      "count   8763.000000  8763.000000   8750.000000      8763.000000  \n",
      "unique          NaN          NaN           NaN              NaN  \n",
      "top             NaN          NaN           NaN              NaN  \n",
      "freq            NaN          NaN           NaN              NaN  \n",
      "first           NaN          NaN           NaN              NaN  \n",
      "last            NaN          NaN           NaN              NaN  \n",
      "mean      94.880158    47.487392      1.999463         2.941006  \n",
      "std       10.452223    18.361342      1.366765         8.284377  \n",
      "min       39.600000     8.500000      0.000000         0.000000  \n",
      "25%       91.800000    33.800000      1.128250         0.000000  \n",
      "50%       95.700000    44.300000      1.660000         0.000000  \n",
      "75%      101.800000    57.800000      2.479800         1.000000  \n",
      "max      166.300000   105.900000     28.050000       137.000000  \n"
     ]
    }
   ],
   "source": [
    "weather_data.drop(['Year','JulianDay','Month',' Day','avgRadWm-2'], axis=1, inplace=True)\n",
    "print(weather_data.describe(include=\"all\"))"
   ]
  },
  {
   "cell_type": "markdown",
   "metadata": {
    "colab_type": "text",
    "id": "w4JsHlG3jd2h"
   },
   "source": [
    "My next step is to work on feature engineering, I will combine crop mangement type in two categories traditional and organic.  After I determine the average number of weeks that takes for each crop to mature I will calculate weather variables weekly average starting from planting date.\n",
    "\n",
    "I will also calculate growing degree days (GDD) that \"are used to estimate the growth and development of plants and insects during the growing season. The basic concept is that development will only occur if the temperature exceeds some minimum development threshold, or base temperature (TBASE). The base temperatures are determined experimentally and are different for each organism\". [1]\n",
    "\n",
    "GDD formula for corn and soybean:\n",
    "\n",
    "GDD = (Daily Max Temp °C + Daily Min Temp °C) / 2 - 10\n",
    "\n",
    "GDD formula wheat:\n",
    "\n",
    "GDD = (Daily Max Temp °C + Daily Min Temp °C) / 2 - 4.4"
   ]
  },
  {
   "cell_type": "code",
   "execution_count": 11,
   "metadata": {
    "colab": {},
    "colab_type": "code",
    "id": "5cyEv5ehJjb5"
   },
   "outputs": [],
   "source": [
    "def calcGDD(df,startDate,endDate,factor):\n",
    "    gdd = 0\n",
    "    for i, j in df.loc[(df.Date >= startDate) & (df.Date <= endDate)].iterrows():\n",
    "        gdd = gdd + (((j['maxTempC']+j['minTempC'])/2)-factor)\n",
    "    return gdd\n",
    "\n",
    "def calcAverage(df,startDate,endDate,var):\n",
    "    sum = 0\n",
    "    avg = 0\n",
    "    for i, j in df.loc[(df.Date >= startDate) & (df.Date <= endDate)].iterrows():\n",
    "        sum = sum + j[var]\n",
    "    if sum > 0:\n",
    "        avg = sum/(i+1)\n",
    "    return avg\n",
    "\n",
    "def calcMax(df,startDate,endDate,var):\n",
    "    val = []\n",
    "    for i, j in df.loc[(df.Date >= startDate) & (df.Date <= endDate)].iterrows():\n",
    "        val.append(j[var])\n",
    "    maxVal = max(val)\n",
    "    return maxVal\n",
    "\n",
    "def calcMin(df,startDate,endDate,var):\n",
    "    val = []\n",
    "    for i, j in df.loc[(df.Date >= startDate) & (df.Date <= endDate)].iterrows():\n",
    "        val.append(j[var])\n",
    "    minVal = min(val)\n",
    "    return minVal\n",
    "\n",
    "def calcSum(df,startDate,endDate,var):\n",
    "    sum = 0\n",
    "    for i, j in df.loc[(df.Date >= startDate) & (df.Date <= endDate)].iterrows():\n",
    "        sum = sum + j[var]\n",
    "    return sum\n",
    "\n",
    "def createFeaturesMatrix(cropData,weatherData,numWeeks,GDDFactor):\n",
    "    master_tp = list()\n",
    "    colName = ()\n",
    "    i = 0\n",
    "    j = 0\n",
    "    for i, j in cropData.iterrows():\n",
    "        if (i == 0):\n",
    "            startDate = j['PlantingDate']\n",
    "        #start calculating date ranges to aggregate weather data for 16 weeks starting from plantingDate\n",
    "        new_tp = ()\n",
    "        for w in range(numWeeks):\n",
    "            temp_tuple = ()\n",
    "            beginWeek = j['PlantingDate'] + timedelta(days=7)*w\n",
    "            endWeek = j['PlantingDate'] + timedelta(days=7)*(w+1)\n",
    "            if(w==(numWeeks-1)):\n",
    "                temp_tuple = (calcAverage(weather_data,beginWeek,endWeek,'avgtTempC'),\\\n",
    "                              calcMax(weather_data,beginWeek,endWeek,'maxTempC'),\\\n",
    "                              calcMin(weather_data,beginWeek,endWeek,'minTempC'),\\\n",
    "                              calcMax(weather_data,beginWeek,endWeek,'maxHumPct'),\\\n",
    "                              calcMin(weather_data,beginWeek,endWeek,'minHumPct'),\\\n",
    "                              calcAverage(weather_data,beginWeek,endWeek,'meanWindMs-1'),\\\n",
    "                              calcSum(weather_data,beginWeek,endWeek,'PrecipitationMm'),\\\n",
    "                              calcGDD(weather_data,startDate,endWeek,GDDFactor),\\\n",
    "                              j['SystemNameType'],j['GrainYield'])\n",
    "                if (i == 0):\n",
    "                    colName = colName + ('avgTemp'+str(w+1),'maxTemp'+str(w+1),'minTemp'+str(w+1),\\\n",
    "                                         'maxHum'+str(w+1),'minHum'+str(w+1),'meanWind'+str(w+1),\\\n",
    "                                         'Precip'+str(w+1),'GDD','SystemNameType','GrainYield')\n",
    "            else:\n",
    "                temp_tuple = (calcAverage(weather_data,beginWeek,endWeek,'avgtTempC'),\\\n",
    "                              calcMax(weather_data,beginWeek,endWeek,'maxTempC'),\\\n",
    "                              calcMin(weather_data,beginWeek,endWeek,'minTempC'),\\\n",
    "                              calcMax(weather_data,beginWeek,endWeek,'maxHumPct'),\\\n",
    "                              calcMin(weather_data,beginWeek,endWeek,'minHumPct'),\\\n",
    "                              calcAverage(weather_data,beginWeek,endWeek,'meanWindMs-1'),\\\n",
    "                              calcSum(weather_data,beginWeek,endWeek,'PrecipitationMm'))\n",
    "                if (i == 0):\n",
    "                    colName = colName + ('avgTemp'+str(w+1),'maxTemp'+str(w+1),'minTemp'+str(w+1),\\\n",
    "                                         'maxHum'+str(w+1),'minHum'+str(w+1),'meanWind'+str(w+1),\\\n",
    "                                         'Precip'+str(w+1))\n",
    "            new_tp = new_tp + temp_tuple\n",
    "        #print(new_tp)\n",
    "        master_tp.append(new_tp)\n",
    "\n",
    "    new_df = pd.DataFrame(list(master_tp),columns = colName)\n",
    "    return(new_df)"
   ]
  },
  {
   "cell_type": "markdown",
   "metadata": {
    "colab_type": "text",
    "id": "u-ujjKj9Ym4e"
   },
   "source": [
    "# Corn"
   ]
  },
  {
   "cell_type": "code",
   "execution_count": 12,
   "metadata": {
    "colab": {
     "base_uri": "https://localhost:8080/",
     "height": 105
    },
    "colab_type": "code",
    "executionInfo": {
     "elapsed": 388,
     "status": "ok",
     "timestamp": 1584490365813,
     "user": {
      "displayName": "Maura Tokay",
      "photoUrl": "",
      "userId": "08366631216777031425"
     },
     "user_tz": 240
    },
    "id": "K6NlFlh2pBRt",
    "outputId": "a564c35e-a0c4-4b9d-8187-ae268d355e64"
   },
   "outputs": [
    {
     "name": "stderr",
     "output_type": "stream",
     "text": [
      "/glob/intel-python/versions/2019u1/intelpython3/lib/python3.6/site-packages/pandas/core/frame.py:3697: SettingWithCopyWarning: \n",
      "A value is trying to be set on a copy of a slice from a DataFrame\n",
      "\n",
      "See the caveats in the documentation: http://pandas.pydata.org/pandas-docs/stable/indexing.html#indexing-view-versus-copy\n",
      "  errors=errors)\n"
     ]
    }
   ],
   "source": [
    "data_corn.drop(['Crop','GrowingSeason','HarvestDate','weekDuration'], axis=1, inplace=True)"
   ]
  },
  {
   "cell_type": "code",
   "execution_count": 13,
   "metadata": {},
   "outputs": [],
   "source": [
    "new_df16 = createFeaturesMatrix(data_corn,weather_data,16,10)\n",
    "new_df16.to_csv(r'cornFeatures16w.csv', index = False, header=True)"
   ]
  },
  {
   "cell_type": "code",
   "execution_count": 14,
   "metadata": {},
   "outputs": [],
   "source": [
    "new_df15 = createFeaturesMatrix(data_corn,weather_data,15,10)\n",
    "new_df15.to_csv(r'cornFeatures15w.csv', index = False, header=True)"
   ]
  },
  {
   "cell_type": "code",
   "execution_count": 15,
   "metadata": {},
   "outputs": [],
   "source": [
    "new_df14 = createFeaturesMatrix(data_corn,weather_data,14,10)\n",
    "new_df14.to_csv(r'cornFeatures14w.csv', index = False, header=True)"
   ]
  },
  {
   "cell_type": "markdown",
   "metadata": {},
   "source": [
    "# Soybean"
   ]
  },
  {
   "cell_type": "code",
   "execution_count": 16,
   "metadata": {},
   "outputs": [
    {
     "name": "stderr",
     "output_type": "stream",
     "text": [
      "/glob/intel-python/versions/2019u1/intelpython3/lib/python3.6/site-packages/pandas/core/frame.py:3697: SettingWithCopyWarning: \n",
      "A value is trying to be set on a copy of a slice from a DataFrame\n",
      "\n",
      "See the caveats in the documentation: http://pandas.pydata.org/pandas-docs/stable/indexing.html#indexing-view-versus-copy\n",
      "  errors=errors)\n"
     ]
    }
   ],
   "source": [
    "data_soy.drop(['Crop','GrowingSeason','HarvestDate','weekDuration'], axis=1, inplace=True)"
   ]
  },
  {
   "cell_type": "code",
   "execution_count": 17,
   "metadata": {},
   "outputs": [],
   "source": [
    "new_soy_df15 = createFeaturesMatrix(data_soy,weather_data,15,10)\n",
    "new_soy_df15.to_csv(r'soyFeatures15w.csv', index = False, header=True)"
   ]
  },
  {
   "cell_type": "code",
   "execution_count": 18,
   "metadata": {},
   "outputs": [],
   "source": [
    "new_soy_df14 = createFeaturesMatrix(data_soy,weather_data,14,10)\n",
    "new_soy_df14.to_csv(r'soyFeatures14w.csv', index = False, header=True)"
   ]
  },
  {
   "cell_type": "code",
   "execution_count": 19,
   "metadata": {},
   "outputs": [],
   "source": [
    "new_soy_df13 = createFeaturesMatrix(data_soy,weather_data,13,10)\n",
    "new_soy_df13.to_csv(r'soyFeatures13w.csv', index = False, header=True)"
   ]
  },
  {
   "cell_type": "markdown",
   "metadata": {},
   "source": [
    "# Wheat"
   ]
  },
  {
   "cell_type": "code",
   "execution_count": 20,
   "metadata": {},
   "outputs": [
    {
     "name": "stderr",
     "output_type": "stream",
     "text": [
      "/glob/intel-python/versions/2019u1/intelpython3/lib/python3.6/site-packages/pandas/core/frame.py:3697: SettingWithCopyWarning: \n",
      "A value is trying to be set on a copy of a slice from a DataFrame\n",
      "\n",
      "See the caveats in the documentation: http://pandas.pydata.org/pandas-docs/stable/indexing.html#indexing-view-versus-copy\n",
      "  errors=errors)\n"
     ]
    }
   ],
   "source": [
    "data_wheat.drop(['Crop','GrowingSeason','HarvestDate','weekDuration'], axis=1, inplace=True)"
   ]
  },
  {
   "cell_type": "code",
   "execution_count": 21,
   "metadata": {},
   "outputs": [],
   "source": [
    "new_wheat_df31 = createFeaturesMatrix(data_wheat,weather_data,31,4.4)\n",
    "new_wheat_df31.to_csv(r'wheatFeatures31w.csv', index = False, header=True)"
   ]
  },
  {
   "cell_type": "code",
   "execution_count": 22,
   "metadata": {},
   "outputs": [],
   "source": [
    "new_wheat_df30 = createFeaturesMatrix(data_wheat,weather_data,30,4.4)\n",
    "new_wheat_df30.to_csv(r'wheatFeatures30w.csv', index = False, header=True)"
   ]
  },
  {
   "cell_type": "code",
   "execution_count": 23,
   "metadata": {},
   "outputs": [],
   "source": [
    "new_wheat_df29 = createFeaturesMatrix(data_wheat,weather_data,29,4.4)\n",
    "new_wheat_df29.to_csv(r'wheatFeatures29w.csv', index = False, header=True)"
   ]
  },
  {
   "cell_type": "code",
   "execution_count": null,
   "metadata": {},
   "outputs": [],
   "source": []
  }
 ],
 "metadata": {
  "colab": {
   "collapsed_sections": [],
   "name": "PredictYieldD3v1.ipynb",
   "provenance": [
    {
     "file_id": "1OBYhzFUbB4r70erWd9AwUCElmcyVNZqS",
     "timestamp": 1548871654118
    }
   ]
  },
  "kernelspec": {
   "display_name": "Python 3 (Intel, 2019 update 1)",
   "language": "python",
   "name": "c009-intel_distribution_of_python_3_2019u1"
  },
  "language_info": {
   "codemirror_mode": {
    "name": "ipython",
    "version": 3
   },
   "file_extension": ".py",
   "mimetype": "text/x-python",
   "name": "python",
   "nbconvert_exporter": "python",
   "pygments_lexer": "ipython3",
   "version": "3.6.5"
  }
 },
 "nbformat": 4,
 "nbformat_minor": 4
}
